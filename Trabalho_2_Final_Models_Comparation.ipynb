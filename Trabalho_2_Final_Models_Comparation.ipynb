{
  "nbformat": 4,
  "nbformat_minor": 0,
  "metadata": {
    "colab": {
      "name": "Trabalho_2_Final-Models-Comparation.ipynb",
      "provenance": [],
      "authorship_tag": "ABX9TyPCUQdpAYFH8YAyh0Z6oBiO",
      "include_colab_link": true
    },
    "kernelspec": {
      "name": "python3",
      "display_name": "Python 3"
    },
    "language_info": {
      "name": "python"
    }
  },
  "cells": [
    {
      "cell_type": "markdown",
      "metadata": {
        "id": "view-in-github",
        "colab_type": "text"
      },
      "source": [
        "<a href=\"https://colab.research.google.com/github/caiobaptistaa/Econometria-4_PUC-Rio/blob/main/Trabalho_2_Final_Models_Comparation.ipynb\" target=\"_parent\"><img src=\"https://colab.research.google.com/assets/colab-badge.svg\" alt=\"Open In Colab\"/></a>"
      ]
    },
    {
      "cell_type": "code",
      "execution_count": 1,
      "metadata": {
        "id": "wm6D7AetJSu8"
      },
      "outputs": [],
      "source": [
        "import pandas as pd\n",
        "import numpy as np\n",
        "pd.pandas.set_option('display.max_columns', None)\n",
        "from sklearn.metrics import mean_squared_error\n",
        "from sklearn.metrics import mean_absolute_error\n",
        "from math import sqrt"
      ]
    },
    {
      "cell_type": "code",
      "source": [
        "from google.colab import drive\n",
        "drive.mount('/content/drive')\n",
        "pred_ar = pd.read_csv('/content/drive/MyDrive/Trabalho-1/pred_ar.csv', sep= \",\", low_memory= False)\n",
        "pred_pc_ar = pd.read_csv('/content/drive/MyDrive/Trabalho-1/pred_pc_ar.csv', sep= \",\", low_memory= False)\n",
        "pred_ridge = pd.read_csv('/content/drive/MyDrive/Trabalho-1/pred_ridge.csv', sep= \",\", low_memory= False)\n",
        "pred_lasso = pd.read_csv('/content/drive/MyDrive/Trabalho-1/pred_lasso.csv', sep= \",\", low_memory= False)\n",
        "pred_lstm = pd.read_csv('/content/drive/MyDrive/Trabalho-1/pred_lstm.csv', sep= \",\", low_memory= False)\n",
        "pred_rf = pd.read_csv('/content/drive/MyDrive/Trabalho-1/pred_rf.csv', sep= \",\", low_memory= False)\n",
        "pred_xgb = pd.read_csv('/content/drive/MyDrive/Trabalho-1/pred_xgb.csv', sep= \",\", low_memory= False)\n",
        "observed = pd.read_csv('/content/drive/MyDrive/Trabalho-1/observed.csv', sep= \",\", low_memory= False)"
      ],
      "metadata": {
        "colab": {
          "base_uri": "https://localhost:8080/"
        },
        "id": "LlEL-gY4Jlsw",
        "outputId": "7788b52e-112e-44bb-c082-d32e0988d907"
      },
      "execution_count": 3,
      "outputs": [
        {
          "output_type": "stream",
          "name": "stdout",
          "text": [
            "Mounted at /content/drive\n"
          ]
        }
      ]
    },
    {
      "cell_type": "code",
      "source": [
        "pred_ar.shape, pred_pc_ar.shape, pred_ridge.shape, pred_lasso.shape, pred_lstm.shape, pred_rf.shape, pred_xgb.shape, observed.shape"
      ],
      "metadata": {
        "colab": {
          "base_uri": "https://localhost:8080/"
        },
        "id": "LKs0ULYwKpIX",
        "outputId": "3c4b47c6-c706-44fb-b210-76dae3793bcb"
      },
      "execution_count": 4,
      "outputs": [
        {
          "output_type": "execute_result",
          "data": {
            "text/plain": [
              "((254, 1),\n",
              " (254, 1),\n",
              " (254, 1),\n",
              " (254, 1),\n",
              " (242, 1),\n",
              " (255, 1),\n",
              " (255, 1),\n",
              " (255, 1))"
            ]
          },
          "metadata": {},
          "execution_count": 4
        }
      ]
    },
    {
      "cell_type": "code",
      "source": [
        ""
      ],
      "metadata": {
        "id": "lbieyq0rK_Tt"
      },
      "execution_count": null,
      "outputs": []
    }
  ]
}